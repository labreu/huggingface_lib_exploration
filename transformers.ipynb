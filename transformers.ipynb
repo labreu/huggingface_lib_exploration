{
 "cells": [
  {
   "cell_type": "markdown",
   "metadata": {},
   "source": [
    "# Some insights on LLMs sizing\n",
    "\n",
    "- Each param in an LLM has up to 4 bytes - 1B takes 4GB of ram memory\n",
    "- Ex: GPT-3 has 175B parameters\n",
    "\n",
    "- Cut the precision (or decimal praces) - converting to 16-bit or 8-bit modelos reduce 1/2 or 1/4 respectivelly\n",
    "\n",
    "- Training model can use 20bytes/parameter (optimized, gradients, activations, etc)"
   ]
  },
  {
   "cell_type": "code",
   "execution_count": null,
   "metadata": {},
   "outputs": [],
   "source": []
  }
 ],
 "metadata": {
  "kernelspec": {
   "display_name": "base",
   "language": "python",
   "name": "python3"
  },
  "language_info": {
   "name": "python",
   "version": "3.9.12"
  }
 },
 "nbformat": 4,
 "nbformat_minor": 2
}
